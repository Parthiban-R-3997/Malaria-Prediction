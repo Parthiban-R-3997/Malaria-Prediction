{
 "cells": [
  {
   "cell_type": "code",
   "execution_count": 2,
   "id": "e302c213",
   "metadata": {},
   "outputs": [],
   "source": [
    "from tensorflow.keras.layers import Input, Lambda, Dense, Flatten,Conv2D\n",
    "from tensorflow.keras.models import Model\n",
    "from tensorflow.keras.applications.vgg19 import VGG19\n",
    "from tensorflow.keras.applications.resnet50 import preprocess_input\n",
    "from tensorflow.keras.preprocessing import image\n",
    "from tensorflow.keras.preprocessing.image import ImageDataGenerator,load_img\n",
    "from tensorflow.keras.models import Sequential\n",
    "import numpy as np\n",
    "from glob import glob\n",
    "import matplotlib.pyplot as plt"
   ]
  },
  {
   "cell_type": "code",
   "execution_count": 3,
   "id": "565371ce",
   "metadata": {},
   "outputs": [],
   "source": [
    "IMAGE_SIZE = [224, 224]\n",
    "\n",
    "train_path = 'Dataset/Train'\n",
    "valid_path = 'Dataset/Test'"
   ]
  },
  {
   "cell_type": "code",
   "execution_count": 4,
   "id": "903a9ba9",
   "metadata": {},
   "outputs": [],
   "source": [
    "VGG19 = VGG19(input_shape=IMAGE_SIZE + [3], weights='imagenet', include_top=False)"
   ]
  },
  {
   "cell_type": "code",
   "execution_count": 5,
   "id": "699640d6",
   "metadata": {},
   "outputs": [],
   "source": [
    "# don't train existing weights\n",
    "for layer in VGG19.layers:\n",
    "    layer.trainable = False"
   ]
  },
  {
   "cell_type": "code",
   "execution_count": 6,
   "id": "e7bf910d",
   "metadata": {},
   "outputs": [],
   "source": [
    " # useful for getting number of output classes\n",
    "folders = glob('Dataset/Train/*')"
   ]
  },
  {
   "cell_type": "code",
   "execution_count": 7,
   "id": "78ee56d2",
   "metadata": {},
   "outputs": [
    {
     "data": {
      "text/plain": [
       "['Dataset/Train\\\\Parasite', 'Dataset/Train\\\\Uninfected']"
      ]
     },
     "execution_count": 7,
     "metadata": {},
     "output_type": "execute_result"
    }
   ],
   "source": [
    "folders"
   ]
  },
  {
   "cell_type": "code",
   "execution_count": 8,
   "id": "8c00bf63",
   "metadata": {},
   "outputs": [],
   "source": [
    "# our layers - you can add more if you want\n",
    "x = Flatten()(VGG19.output)"
   ]
  },
  {
   "cell_type": "code",
   "execution_count": 9,
   "id": "15362351",
   "metadata": {},
   "outputs": [],
   "source": [
    "prediction = Dense(len(folders), activation='softmax')(x)\n",
    "\n",
    "# create a model object\n",
    "model = Model(inputs=VGG19.input, outputs=prediction)"
   ]
  },
  {
   "cell_type": "code",
   "execution_count": 9,
   "id": "f8c6857b",
   "metadata": {},
   "outputs": [
    {
     "name": "stdout",
     "output_type": "stream",
     "text": [
      "Model: \"model\"\n",
      "_________________________________________________________________\n",
      "Layer (type)                 Output Shape              Param #   \n",
      "=================================================================\n",
      "input_1 (InputLayer)         [(None, 224, 224, 3)]     0         \n",
      "_________________________________________________________________\n",
      "block1_conv1 (Conv2D)        (None, 224, 224, 64)      1792      \n",
      "_________________________________________________________________\n",
      "block1_conv2 (Conv2D)        (None, 224, 224, 64)      36928     \n",
      "_________________________________________________________________\n",
      "block1_pool (MaxPooling2D)   (None, 112, 112, 64)      0         \n",
      "_________________________________________________________________\n",
      "block2_conv1 (Conv2D)        (None, 112, 112, 128)     73856     \n",
      "_________________________________________________________________\n",
      "block2_conv2 (Conv2D)        (None, 112, 112, 128)     147584    \n",
      "_________________________________________________________________\n",
      "block2_pool (MaxPooling2D)   (None, 56, 56, 128)       0         \n",
      "_________________________________________________________________\n",
      "block3_conv1 (Conv2D)        (None, 56, 56, 256)       295168    \n",
      "_________________________________________________________________\n",
      "block3_conv2 (Conv2D)        (None, 56, 56, 256)       590080    \n",
      "_________________________________________________________________\n",
      "block3_conv3 (Conv2D)        (None, 56, 56, 256)       590080    \n",
      "_________________________________________________________________\n",
      "block3_conv4 (Conv2D)        (None, 56, 56, 256)       590080    \n",
      "_________________________________________________________________\n",
      "block3_pool (MaxPooling2D)   (None, 28, 28, 256)       0         \n",
      "_________________________________________________________________\n",
      "block4_conv1 (Conv2D)        (None, 28, 28, 512)       1180160   \n",
      "_________________________________________________________________\n",
      "block4_conv2 (Conv2D)        (None, 28, 28, 512)       2359808   \n",
      "_________________________________________________________________\n",
      "block4_conv3 (Conv2D)        (None, 28, 28, 512)       2359808   \n",
      "_________________________________________________________________\n",
      "block4_conv4 (Conv2D)        (None, 28, 28, 512)       2359808   \n",
      "_________________________________________________________________\n",
      "block4_pool (MaxPooling2D)   (None, 14, 14, 512)       0         \n",
      "_________________________________________________________________\n",
      "block5_conv1 (Conv2D)        (None, 14, 14, 512)       2359808   \n",
      "_________________________________________________________________\n",
      "block5_conv2 (Conv2D)        (None, 14, 14, 512)       2359808   \n",
      "_________________________________________________________________\n",
      "block5_conv3 (Conv2D)        (None, 14, 14, 512)       2359808   \n",
      "_________________________________________________________________\n",
      "block5_conv4 (Conv2D)        (None, 14, 14, 512)       2359808   \n",
      "_________________________________________________________________\n",
      "block5_pool (MaxPooling2D)   (None, 7, 7, 512)         0         \n",
      "_________________________________________________________________\n",
      "flatten (Flatten)            (None, 25088)             0         \n",
      "_________________________________________________________________\n",
      "dense (Dense)                (None, 2)                 50178     \n",
      "=================================================================\n",
      "Total params: 20,074,562\n",
      "Trainable params: 50,178\n",
      "Non-trainable params: 20,024,384\n",
      "_________________________________________________________________\n"
     ]
    }
   ],
   "source": [
    "model.summary()"
   ]
  },
  {
   "cell_type": "code",
   "execution_count": 15,
   "id": "280f487a",
   "metadata": {},
   "outputs": [],
   "source": [
    "from tensorflow.keras.layers import MaxPooling2D"
   ]
  },
  {
   "cell_type": "code",
   "execution_count": 16,
   "id": "418caaa0",
   "metadata": {},
   "outputs": [
    {
     "name": "stdout",
     "output_type": "stream",
     "text": [
      "Model: \"sequential\"\n",
      "_________________________________________________________________\n",
      "Layer (type)                 Output Shape              Param #   \n",
      "=================================================================\n",
      "conv2d (Conv2D)              (None, 224, 224, 16)      208       \n",
      "_________________________________________________________________\n",
      "max_pooling2d (MaxPooling2D) (None, 112, 112, 16)      0         \n",
      "_________________________________________________________________\n",
      "conv2d_1 (Conv2D)            (None, 112, 112, 32)      2080      \n",
      "_________________________________________________________________\n",
      "max_pooling2d_1 (MaxPooling2 (None, 56, 56, 32)        0         \n",
      "_________________________________________________________________\n",
      "conv2d_2 (Conv2D)            (None, 56, 56, 64)        8256      \n",
      "_________________________________________________________________\n",
      "max_pooling2d_2 (MaxPooling2 (None, 28, 28, 64)        0         \n",
      "_________________________________________________________________\n",
      "flatten_2 (Flatten)          (None, 50176)             0         \n",
      "_________________________________________________________________\n",
      "dense_1 (Dense)              (None, 500)               25088500  \n",
      "_________________________________________________________________\n",
      "dense_2 (Dense)              (None, 2)                 1002      \n",
      "=================================================================\n",
      "Total params: 25,100,046\n",
      "Trainable params: 25,100,046\n",
      "Non-trainable params: 0\n",
      "_________________________________________________________________\n"
     ]
    }
   ],
   "source": [
    "### Create Model from scratch using CNN\n",
    "model=Sequential()\n",
    "model.add(Conv2D(filters=16,kernel_size=2,padding=\"same\",activation=\"relu\",input_shape=(224,224,3)))\n",
    "model.add(MaxPooling2D(pool_size=2))\n",
    "model.add(Conv2D(filters=32,kernel_size=2,padding=\"same\",activation =\"relu\"))\n",
    "model.add(MaxPooling2D(pool_size=2))\n",
    "model.add(Conv2D(filters=64,kernel_size=2,padding=\"same\",activation=\"relu\"))\n",
    "model.add(MaxPooling2D(pool_size=2))\n",
    "model.add(Flatten())\n",
    "model.add(Dense(500,activation=\"relu\"))\n",
    "model.add(Dense(2,activation=\"softmax\"))\n",
    "model.summary()"
   ]
  },
  {
   "cell_type": "code",
   "execution_count": 76,
   "id": "39ea1a84",
   "metadata": {},
   "outputs": [],
   "source": [
    "# tell the model what cost and optimization method to use\n",
    "model.compile(\n",
    "  loss='categorical_crossentropy',\n",
    "  optimizer='adam',\n",
    "  metrics=['accuracy']\n",
    ")\n"
   ]
  },
  {
   "cell_type": "code",
   "execution_count": 128,
   "id": "8c0e1782",
   "metadata": {},
   "outputs": [],
   "source": [
    "# Use the Image Data Generator to import the images from the dataset\n",
    "from tensorflow.keras.preprocessing.image import ImageDataGenerator\n",
    "\n",
    "train_datagen = ImageDataGenerator(rescale = 1./255,\n",
    "                                   shear_range = 0.2,\n",
    "                                   zoom_range = 0.2,\n",
    "                                   horizontal_flip = True)\n",
    "\n",
    "test_datagen = ImageDataGenerator(rescale = 1./255)\n",
    "\n"
   ]
  },
  {
   "cell_type": "code",
   "execution_count": 129,
   "id": "4cd97e93",
   "metadata": {},
   "outputs": [
    {
     "name": "stdout",
     "output_type": "stream",
     "text": [
      "Found 416 images belonging to 2 classes.\n"
     ]
    }
   ],
   "source": [
    "# Make sure you provide the same target size as initialied for the image size\n",
    "training_set = train_datagen.flow_from_directory('Dataset/Train',\n",
    "                                                 target_size = (224, 224),\n",
    "                                                 batch_size = 32,\n",
    "                                                 class_mode = 'categorical')"
   ]
  },
  {
   "cell_type": "code",
   "execution_count": 130,
   "id": "f89f61ec",
   "metadata": {},
   "outputs": [
    {
     "name": "stdout",
     "output_type": "stream",
     "text": [
      "Found 126 images belonging to 2 classes.\n"
     ]
    }
   ],
   "source": [
    "test_set = test_datagen.flow_from_directory('Dataset/Test',\n",
    "                                            target_size = (224, 224),\n",
    "                                            batch_size = 32,\n",
    "                                            class_mode = 'categorical')"
   ]
  },
  {
   "cell_type": "code",
   "execution_count": 14,
   "id": "94388897",
   "metadata": {},
   "outputs": [
    {
     "name": "stdout",
     "output_type": "stream",
     "text": [
      "Epoch 1/50\n",
      "13/13 [==============================] - 39s 3s/step - loss: 1.4152 - accuracy: 0.5096 - val_loss: 1.0347 - val_accuracy: 0.4179\n",
      "Epoch 2/50\n",
      "13/13 [==============================] - 29s 2s/step - loss: 0.7027 - accuracy: 0.6154 - val_loss: 0.5660 - val_accuracy: 0.7164\n",
      "Epoch 3/50\n",
      "13/13 [==============================] - 29s 2s/step - loss: 0.3973 - accuracy: 0.8077 - val_loss: 0.5415 - val_accuracy: 0.6940\n",
      "Epoch 4/50\n",
      "13/13 [==============================] - 29s 2s/step - loss: 0.3766 - accuracy: 0.8365 - val_loss: 0.4354 - val_accuracy: 0.7836\n",
      "Epoch 5/50\n",
      "13/13 [==============================] - 29s 2s/step - loss: 0.3217 - accuracy: 0.8726 - val_loss: 0.4971 - val_accuracy: 0.7313\n",
      "Epoch 6/50\n",
      "13/13 [==============================] - 29s 2s/step - loss: 0.2767 - accuracy: 0.8870 - val_loss: 0.4390 - val_accuracy: 0.7687\n",
      "Epoch 7/50\n",
      "13/13 [==============================] - 29s 2s/step - loss: 0.2506 - accuracy: 0.9279 - val_loss: 0.4596 - val_accuracy: 0.7761\n",
      "Epoch 8/50\n",
      "13/13 [==============================] - 29s 2s/step - loss: 0.2567 - accuracy: 0.9038 - val_loss: 0.3951 - val_accuracy: 0.8060\n",
      "Epoch 9/50\n",
      "13/13 [==============================] - 29s 2s/step - loss: 0.2746 - accuracy: 0.8846 - val_loss: 0.5718 - val_accuracy: 0.7239\n",
      "Epoch 10/50\n",
      "13/13 [==============================] - 30s 2s/step - loss: 0.2709 - accuracy: 0.8870 - val_loss: 0.3712 - val_accuracy: 0.8284\n",
      "Epoch 11/50\n",
      "13/13 [==============================] - 30s 2s/step - loss: 0.2538 - accuracy: 0.8918 - val_loss: 0.4755 - val_accuracy: 0.7463\n",
      "Epoch 12/50\n",
      "13/13 [==============================] - 30s 2s/step - loss: 0.2345 - accuracy: 0.9111 - val_loss: 0.3167 - val_accuracy: 0.8657\n",
      "Epoch 13/50\n",
      "13/13 [==============================] - 29s 2s/step - loss: 0.2066 - accuracy: 0.9423 - val_loss: 0.2811 - val_accuracy: 0.8881\n",
      "Epoch 14/50\n",
      "13/13 [==============================] - 30s 2s/step - loss: 0.1752 - accuracy: 0.9495 - val_loss: 0.4185 - val_accuracy: 0.7687\n",
      "Epoch 15/50\n",
      "13/13 [==============================] - 29s 2s/step - loss: 0.1689 - accuracy: 0.9543 - val_loss: 0.2640 - val_accuracy: 0.9328\n",
      "Epoch 16/50\n",
      "13/13 [==============================] - 30s 2s/step - loss: 0.1593 - accuracy: 0.9591 - val_loss: 0.4249 - val_accuracy: 0.7761\n",
      "Epoch 17/50\n",
      "13/13 [==============================] - 30s 2s/step - loss: 0.1693 - accuracy: 0.9495 - val_loss: 0.2627 - val_accuracy: 0.8955\n",
      "Epoch 18/50\n",
      "13/13 [==============================] - 30s 2s/step - loss: 0.1687 - accuracy: 0.9423 - val_loss: 0.2876 - val_accuracy: 0.8433\n",
      "Epoch 19/50\n",
      "13/13 [==============================] - 30s 2s/step - loss: 0.1772 - accuracy: 0.9327 - val_loss: 0.4019 - val_accuracy: 0.7687\n",
      "Epoch 20/50\n",
      "13/13 [==============================] - 29s 2s/step - loss: 0.1412 - accuracy: 0.9543 - val_loss: 0.3246 - val_accuracy: 0.8657\n",
      "Epoch 21/50\n",
      "13/13 [==============================] - 30s 2s/step - loss: 0.1353 - accuracy: 0.9543 - val_loss: 0.2511 - val_accuracy: 0.8881\n",
      "Epoch 22/50\n",
      "13/13 [==============================] - 30s 2s/step - loss: 0.1228 - accuracy: 0.9736 - val_loss: 0.2067 - val_accuracy: 0.9328\n",
      "Epoch 23/50\n",
      "13/13 [==============================] - 30s 2s/step - loss: 0.1293 - accuracy: 0.9615 - val_loss: 0.2891 - val_accuracy: 0.9179\n",
      "Epoch 24/50\n",
      "13/13 [==============================] - 30s 2s/step - loss: 0.1138 - accuracy: 0.9808 - val_loss: 0.3197 - val_accuracy: 0.8731\n",
      "Epoch 25/50\n",
      "13/13 [==============================] - 30s 2s/step - loss: 0.1281 - accuracy: 0.9591 - val_loss: 0.2726 - val_accuracy: 0.8881\n",
      "Epoch 26/50\n",
      "13/13 [==============================] - 30s 2s/step - loss: 0.1261 - accuracy: 0.9615 - val_loss: 0.2441 - val_accuracy: 0.9328\n",
      "Epoch 27/50\n",
      "13/13 [==============================] - 30s 2s/step - loss: 0.1305 - accuracy: 0.9639 - val_loss: 0.2135 - val_accuracy: 0.9328\n",
      "Epoch 28/50\n",
      "13/13 [==============================] - 30s 2s/step - loss: 0.1119 - accuracy: 0.9736 - val_loss: 0.2427 - val_accuracy: 0.9328\n",
      "Epoch 29/50\n",
      "13/13 [==============================] - 30s 2s/step - loss: 0.1323 - accuracy: 0.9615 - val_loss: 0.2076 - val_accuracy: 0.9403\n",
      "Epoch 30/50\n",
      "13/13 [==============================] - 30s 2s/step - loss: 0.0991 - accuracy: 0.9784 - val_loss: 0.2514 - val_accuracy: 0.8881\n",
      "Epoch 31/50\n",
      "13/13 [==============================] - 30s 2s/step - loss: 0.1325 - accuracy: 0.9567 - val_loss: 0.1758 - val_accuracy: 0.9552\n",
      "Epoch 32/50\n",
      "13/13 [==============================] - 31s 2s/step - loss: 0.1011 - accuracy: 0.9688 - val_loss: 0.2231 - val_accuracy: 0.9179\n",
      "Epoch 33/50\n",
      "13/13 [==============================] - 30s 2s/step - loss: 0.0986 - accuracy: 0.9615 - val_loss: 0.2108 - val_accuracy: 0.9478\n",
      "Epoch 34/50\n",
      "13/13 [==============================] - 30s 2s/step - loss: 0.1060 - accuracy: 0.9663 - val_loss: 0.2847 - val_accuracy: 0.8657\n",
      "Epoch 35/50\n",
      "13/13 [==============================] - 31s 2s/step - loss: 0.1223 - accuracy: 0.9615 - val_loss: 0.1855 - val_accuracy: 0.9328\n",
      "Epoch 36/50\n",
      "13/13 [==============================] - 30s 2s/step - loss: 0.1326 - accuracy: 0.9471 - val_loss: 0.4093 - val_accuracy: 0.7985\n",
      "Epoch 37/50\n",
      "13/13 [==============================] - 31s 2s/step - loss: 0.1048 - accuracy: 0.9712 - val_loss: 0.2567 - val_accuracy: 0.9254\n",
      "Epoch 38/50\n",
      "13/13 [==============================] - 32s 2s/step - loss: 0.1225 - accuracy: 0.9495 - val_loss: 0.4205 - val_accuracy: 0.7537\n",
      "Epoch 39/50\n",
      "13/13 [==============================] - 35s 3s/step - loss: 0.1114 - accuracy: 0.9639 - val_loss: 0.1906 - val_accuracy: 0.9328\n",
      "Epoch 40/50\n",
      "13/13 [==============================] - 31s 2s/step - loss: 0.0802 - accuracy: 0.9784 - val_loss: 0.2843 - val_accuracy: 0.8881\n",
      "Epoch 41/50\n",
      "13/13 [==============================] - 31s 2s/step - loss: 0.0832 - accuracy: 0.9736 - val_loss: 0.1482 - val_accuracy: 0.9403\n",
      "Epoch 42/50\n",
      "13/13 [==============================] - 30s 2s/step - loss: 0.1112 - accuracy: 0.9639 - val_loss: 0.1882 - val_accuracy: 0.9328\n",
      "Epoch 43/50\n",
      "13/13 [==============================] - 29s 2s/step - loss: 0.1297 - accuracy: 0.9543 - val_loss: 0.6012 - val_accuracy: 0.7239\n",
      "Epoch 44/50\n",
      "13/13 [==============================] - 30s 2s/step - loss: 0.1237 - accuracy: 0.9543 - val_loss: 0.2072 - val_accuracy: 0.9328\n",
      "Epoch 45/50\n",
      "13/13 [==============================] - 29s 2s/step - loss: 0.0764 - accuracy: 0.9856 - val_loss: 0.1843 - val_accuracy: 0.9403\n",
      "Epoch 46/50\n",
      "13/13 [==============================] - 30s 2s/step - loss: 0.0698 - accuracy: 0.9856 - val_loss: 0.1898 - val_accuracy: 0.9478\n",
      "Epoch 47/50\n",
      "13/13 [==============================] - 32s 2s/step - loss: 0.0663 - accuracy: 0.9832 - val_loss: 0.1780 - val_accuracy: 0.9254\n",
      "Epoch 48/50\n",
      "13/13 [==============================] - 32s 2s/step - loss: 0.0866 - accuracy: 0.9832 - val_loss: 0.1694 - val_accuracy: 0.9478\n",
      "Epoch 49/50\n",
      "13/13 [==============================] - 30s 2s/step - loss: 0.0979 - accuracy: 0.9639 - val_loss: 0.2982 - val_accuracy: 0.8358\n",
      "Epoch 50/50\n",
      "13/13 [==============================] - 31s 2s/step - loss: 0.1144 - accuracy: 0.9591 - val_loss: 0.1841 - val_accuracy: 0.9478\n"
     ]
    }
   ],
   "source": [
    "# fit the model\n",
    "# Run the cell. It will take some time to execute\n",
    "r = model.fit_generator(\n",
    "  training_set,\n",
    "  validation_data=test_set,\n",
    "  epochs=50,\n",
    "  steps_per_epoch=len(training_set),\n",
    "  validation_steps=len(test_set)\n",
    ")"
   ]
  },
  {
   "cell_type": "code",
   "execution_count": 131,
   "id": "c5b56a7f",
   "metadata": {},
   "outputs": [
    {
     "data": {
      "image/png": "[encoded data removed]",
      "text/plain": [
       "<Figure size 432x288 with 1 Axes>"
      ]
     },
     "metadata": {
      "needs_background": "light"
     },
     "output_type": "display_data"
    },
    {
     "data": {
      "image/png": "[encoded data removed]",
      "text/plain": [
       "<Figure size 432x288 with 1 Axes>"
      ]
     },
     "metadata": {
      "needs_background": "light"
     },
     "output_type": "display_data"
    },
    {
     "data": {
      "text/plain": [
       "<Figure size 432x288 with 0 Axes>"
      ]
     },
     "metadata": {},
     "output_type": "display_data"
    }
   ],
   "source": [
    "# plot the loss\n",
    "plt.plot(r.history['loss'], label='train loss')\n",
    "plt.plot(r.history['val_loss'], label='val loss')\n",
    "plt.legend()\n",
    "plt.show()\n",
    "plt.savefig('LossVal_loss')\n",
    "\n",
    "# plot the accuracy\n",
    "plt.plot(r.history['accuracy'], label='train acc')\n",
    "plt.plot(r.history['val_accuracy'], label='val acc')\n",
    "plt.legend()\n",
    "plt.show()\n",
    "plt.savefig('AccVal_acc')"
   ]
  },
  {
   "cell_type": "code",
   "execution_count": 146,
   "id": "dbfb6331",
   "metadata": {},
   "outputs": [],
   "source": [
    "# save it as a h5 file\n",
    "\n",
    "\n",
    "from tensorflow.keras.models import load_model\n",
    "\n",
    "model.save('model_vgg19.h5')"
   ]
  },
  {
   "cell_type": "code",
   "execution_count": 147,
   "id": "8efe5dff",
   "metadata": {},
   "outputs": [],
   "source": [
    "y_pred = model.predict(test_set)"
   ]
  },
  {
   "cell_type": "code",
   "execution_count": 148,
   "id": "f7f8271f",
   "metadata": {},
   "outputs": [],
   "source": [
    "import numpy as np\n",
    "y_pred = np.argmax(y_pred, axis=1)"
   ]
  },
  {
   "cell_type": "code",
   "execution_count": 149,
   "id": "6e687050",
   "metadata": {},
   "outputs": [
    {
     "data": {
      "text/plain": [
       "array([1, 0, 0, 0, 0, 1, 1, 0, 0, 0, 0, 0, 0, 1, 1, 0, 0, 0, 0, 0, 0, 0,\n",
       "       0, 0, 0, 1, 0, 0, 0, 1, 0, 0, 0, 0, 0, 1, 1, 0, 0, 0, 0, 1, 0, 1,\n",
       "       0, 0, 0, 0, 1, 1, 0, 1, 1, 0, 1, 0, 0, 1, 1, 1, 0, 0, 0, 1, 0, 1,\n",
       "       1, 0, 0, 1, 1, 1, 0, 1, 0, 0, 0, 0, 0, 0, 1, 1, 0, 1, 0, 1, 0, 1,\n",
       "       1, 0, 0, 0, 0, 1, 0, 0, 0, 1, 0, 1, 0, 0, 0, 1, 1, 0, 1, 0, 0, 0,\n",
       "       0, 0, 0, 0, 0, 0, 0, 0, 0, 0, 1, 0, 0, 0, 1, 0], dtype=int64)"
      ]
     },
     "execution_count": 149,
     "metadata": {},
     "output_type": "execute_result"
    }
   ],
   "source": [
    "y_pred"
   ]
  },
  {
   "cell_type": "code",
   "execution_count": 150,
   "id": "c6f2230c",
   "metadata": {},
   "outputs": [],
   "source": [
    "from tensorflow.keras.models import load_model\n",
    "from tensorflow.keras.preprocessing import image"
   ]
  },
  {
   "cell_type": "code",
   "execution_count": 154,
   "id": "890e50cb",
   "metadata": {
    "scrolled": true
   },
   "outputs": [
    {
     "ename": "AttributeError",
     "evalue": "'str' object has no attribute 'decode'",
     "output_type": "error",
     "traceback": [
      "\u001b[1;31m---------------------------------------------------------------------------\u001b[0m",
      "\u001b[1;31mAttributeError\u001b[0m                            Traceback (most recent call last)",
      "\u001b[1;32m<ipython-input-154-b4be45f2d613>\u001b[0m in \u001b[0;36m<module>\u001b[1;34m\u001b[0m\n\u001b[1;32m----> 1\u001b[1;33m \u001b[0mmodel\u001b[0m\u001b[1;33m=\u001b[0m\u001b[0mload_model\u001b[0m\u001b[1;33m(\u001b[0m\u001b[1;34m'model_vgg19.h5'\u001b[0m\u001b[1;33m)\u001b[0m\u001b[1;33m\u001b[0m\u001b[1;33m\u001b[0m\u001b[0m\n\u001b[0m",
      "\u001b[1;32mg:\\anaconda\\envs\\tf_1\\lib\\site-packages\\tensorflow_core\\python\\keras\\saving\\save.py\u001b[0m in \u001b[0;36mload_model\u001b[1;34m(filepath, custom_objects, compile)\u001b[0m\n\u001b[0;32m    144\u001b[0m   if (h5py is not None and (\n\u001b[0;32m    145\u001b[0m       isinstance(filepath, h5py.File) or h5py.is_hdf5(filepath))):\n\u001b[1;32m--> 146\u001b[1;33m     \u001b[1;31m#return hdf5_format.load_model_from_hdf5(filepath, custom_objects, compile)\u001b[0m\u001b[1;33m\u001b[0m\u001b[1;33m\u001b[0m\u001b[1;33m\u001b[0m\u001b[0m\n\u001b[0m\u001b[0;32m    147\u001b[0m \u001b[1;33m\u001b[0m\u001b[0m\n\u001b[0;32m    148\u001b[0m   \u001b[1;32mif\u001b[0m \u001b[0misinstance\u001b[0m\u001b[1;33m(\u001b[0m\u001b[0mfilepath\u001b[0m\u001b[1;33m,\u001b[0m \u001b[0msix\u001b[0m\u001b[1;33m.\u001b[0m\u001b[0mstring_types\u001b[0m\u001b[1;33m)\u001b[0m\u001b[1;33m:\u001b[0m\u001b[1;33m\u001b[0m\u001b[1;33m\u001b[0m\u001b[0m\n",
      "\u001b[1;32mg:\\anaconda\\envs\\tf_1\\lib\\site-packages\\tensorflow_core\\python\\keras\\saving\\hdf5_format.py\u001b[0m in \u001b[0;36mload_model_from_hdf5\u001b[1;34m(filepath, custom_objects, compile)\u001b[0m\n\u001b[0;32m    169\u001b[0m \u001b[1;33m\u001b[0m\u001b[0m\n\u001b[0;32m    170\u001b[0m     \u001b[1;31m# set weights\u001b[0m\u001b[1;33m\u001b[0m\u001b[1;33m\u001b[0m\u001b[1;33m\u001b[0m\u001b[0m\n\u001b[1;32m--> 171\u001b[1;33m     \u001b[0mload_weights_from_hdf5_group\u001b[0m\u001b[1;33m(\u001b[0m\u001b[0mf\u001b[0m\u001b[1;33m[\u001b[0m\u001b[1;34m'model_weights'\u001b[0m\u001b[1;33m]\u001b[0m\u001b[1;33m,\u001b[0m \u001b[0mmodel\u001b[0m\u001b[1;33m.\u001b[0m\u001b[0mlayers\u001b[0m\u001b[1;33m)\u001b[0m\u001b[1;33m\u001b[0m\u001b[1;33m\u001b[0m\u001b[0m\n\u001b[0m\u001b[0;32m    172\u001b[0m \u001b[1;33m\u001b[0m\u001b[0m\n\u001b[0;32m    173\u001b[0m     \u001b[1;32mif\u001b[0m \u001b[0mcompile\u001b[0m\u001b[1;33m:\u001b[0m\u001b[1;33m\u001b[0m\u001b[1;33m\u001b[0m\u001b[0m\n",
      "\u001b[1;32mg:\\anaconda\\envs\\tf_1\\lib\\site-packages\\tensorflow_core\\python\\keras\\saving\\hdf5_format.py\u001b[0m in \u001b[0;36mload_weights_from_hdf5_group\u001b[1;34m(f, layers)\u001b[0m\n\u001b[0;32m    663\u001b[0m       \u001b[0mfiltered_layers\u001b[0m\u001b[1;33m.\u001b[0m\u001b[0mappend\u001b[0m\u001b[1;33m(\u001b[0m\u001b[0mlayer\u001b[0m\u001b[1;33m)\u001b[0m\u001b[1;33m\u001b[0m\u001b[1;33m\u001b[0m\u001b[0m\n\u001b[0;32m    664\u001b[0m \u001b[1;33m\u001b[0m\u001b[0m\n\u001b[1;32m--> 665\u001b[1;33m   \u001b[0mlayer_names\u001b[0m \u001b[1;33m=\u001b[0m \u001b[0mload_attributes_from_hdf5_group\u001b[0m\u001b[1;33m(\u001b[0m\u001b[0mf\u001b[0m\u001b[1;33m,\u001b[0m \u001b[1;34m'layer_names'\u001b[0m\u001b[1;33m)\u001b[0m\u001b[1;33m\u001b[0m\u001b[1;33m\u001b[0m\u001b[0m\n\u001b[0m\u001b[0;32m    666\u001b[0m   \u001b[0mfiltered_layer_names\u001b[0m \u001b[1;33m=\u001b[0m \u001b[1;33m[\u001b[0m\u001b[1;33m]\u001b[0m\u001b[1;33m\u001b[0m\u001b[1;33m\u001b[0m\u001b[0m\n\u001b[0;32m    667\u001b[0m   \u001b[1;32mfor\u001b[0m \u001b[0mname\u001b[0m \u001b[1;32min\u001b[0m \u001b[0mlayer_names\u001b[0m\u001b[1;33m:\u001b[0m\u001b[1;33m\u001b[0m\u001b[1;33m\u001b[0m\u001b[0m\n",
      "\u001b[1;32mg:\\anaconda\\envs\\tf_1\\lib\\site-packages\\tensorflow_core\\python\\keras\\saving\\hdf5_format.py\u001b[0m in \u001b[0;36mload_attributes_from_hdf5_group\u001b[1;34m(group, name)\u001b[0m\n\u001b[0;32m    823\u001b[0m   \"\"\"\n\u001b[0;32m    824\u001b[0m   \u001b[1;32mif\u001b[0m \u001b[0mname\u001b[0m \u001b[1;32min\u001b[0m \u001b[0mgroup\u001b[0m\u001b[1;33m.\u001b[0m\u001b[0mattrs\u001b[0m\u001b[1;33m:\u001b[0m\u001b[1;33m\u001b[0m\u001b[1;33m\u001b[0m\u001b[0m\n\u001b[1;32m--> 825\u001b[1;33m     \u001b[1;31m#data = [n for n in group.attrs[name]]\u001b[0m\u001b[1;33m\u001b[0m\u001b[1;33m\u001b[0m\u001b[1;33m\u001b[0m\u001b[0m\n\u001b[0m\u001b[0;32m    826\u001b[0m   \u001b[1;32melse\u001b[0m\u001b[1;33m:\u001b[0m\u001b[1;33m\u001b[0m\u001b[1;33m\u001b[0m\u001b[0m\n\u001b[0;32m    827\u001b[0m     \u001b[0mdata\u001b[0m \u001b[1;33m=\u001b[0m \u001b[1;33m[\u001b[0m\u001b[1;33m]\u001b[0m\u001b[1;33m\u001b[0m\u001b[1;33m\u001b[0m\u001b[0m\n",
      "\u001b[1;32mg:\\anaconda\\envs\\tf_1\\lib\\site-packages\\tensorflow_core\\python\\keras\\saving\\hdf5_format.py\u001b[0m in \u001b[0;36m<listcomp>\u001b[1;34m(.0)\u001b[0m\n\u001b[0;32m    823\u001b[0m   \"\"\"\n\u001b[0;32m    824\u001b[0m   \u001b[1;32mif\u001b[0m \u001b[0mname\u001b[0m \u001b[1;32min\u001b[0m \u001b[0mgroup\u001b[0m\u001b[1;33m.\u001b[0m\u001b[0mattrs\u001b[0m\u001b[1;33m:\u001b[0m\u001b[1;33m\u001b[0m\u001b[1;33m\u001b[0m\u001b[0m\n\u001b[1;32m--> 825\u001b[1;33m     \u001b[1;31m#data = [n for n in group.attrs[name]]\u001b[0m\u001b[1;33m\u001b[0m\u001b[1;33m\u001b[0m\u001b[1;33m\u001b[0m\u001b[0m\n\u001b[0m\u001b[0;32m    826\u001b[0m   \u001b[1;32melse\u001b[0m\u001b[1;33m:\u001b[0m\u001b[1;33m\u001b[0m\u001b[1;33m\u001b[0m\u001b[0m\n\u001b[0;32m    827\u001b[0m     \u001b[0mdata\u001b[0m \u001b[1;33m=\u001b[0m \u001b[1;33m[\u001b[0m\u001b[1;33m]\u001b[0m\u001b[1;33m\u001b[0m\u001b[1;33m\u001b[0m\u001b[0m\n",
      "\u001b[1;31mAttributeError\u001b[0m: 'str' object has no attribute 'decode'"
     ]
    }
   ],
   "source": [
    "model=load_model('model_vgg19.h5')"
   ]
  },
  {
   "cell_type": "code",
   "execution_count": 108,
   "id": "0b60b123",
   "metadata": {},
   "outputs": [],
   "source": [
    "#img=image.load_img('Dataset/Test/Uninfected/3.png',target_size=(224,224))"
   ]
  },
  {
   "cell_type": "code",
   "execution_count": 138,
   "id": "a78bb44a",
   "metadata": {},
   "outputs": [],
   "source": [
    "img=image.load_img('Dataset/Test/Parasite/6.png',target_size=(224,224))"
   ]
  },
  {
   "cell_type": "code",
   "execution_count": 139,
   "id": "e70a417c",
   "metadata": {},
   "outputs": [],
   "source": [
    "x=image.img_to_array(img)\n"
   ]
  },
  {
   "cell_type": "code",
   "execution_count": 140,
   "id": "b7b1f678",
   "metadata": {},
   "outputs": [],
   "source": [
    "x=x/255"
   ]
  },
  {
   "cell_type": "code",
   "execution_count": 141,
   "id": "f5d7e9d0",
   "metadata": {},
   "outputs": [
    {
     "data": {
      "text/plain": [
       "(1, 224, 224, 3)"
      ]
     },
     "execution_count": 141,
     "metadata": {},
     "output_type": "execute_result"
    }
   ],
   "source": [
    "x=np.expand_dims(x,axis=0)\n",
    "img_data=preprocess_input(x)\n",
    "img_data.shape"
   ]
  },
  {
   "cell_type": "code",
   "execution_count": 142,
   "id": "1acf8736",
   "metadata": {},
   "outputs": [
    {
     "data": {
      "text/plain": [
       "array([[0.06218883, 0.93781114]], dtype=float32)"
      ]
     },
     "execution_count": 142,
     "metadata": {},
     "output_type": "execute_result"
    }
   ],
   "source": [
    "model.predict(img_data)"
   ]
  },
  {
   "cell_type": "code",
   "execution_count": 143,
   "id": "51aba082",
   "metadata": {},
   "outputs": [],
   "source": [
    "a=np.argmax(model.predict(img_data), axis=1)\n"
   ]
  },
  {
   "cell_type": "code",
   "execution_count": 144,
   "id": "f406feea",
   "metadata": {},
   "outputs": [
    {
     "data": {
      "text/plain": [
       "array([1], dtype=int64)"
      ]
     },
     "execution_count": 144,
     "metadata": {},
     "output_type": "execute_result"
    }
   ],
   "source": [
    "a"
   ]
  },
  {
   "cell_type": "code",
   "execution_count": 145,
   "id": "e8cc281e",
   "metadata": {},
   "outputs": [
    {
     "name": "stdout",
     "output_type": "stream",
     "text": [
      "Uninfected\n"
     ]
    }
   ],
   "source": [
    "if(a==1):\n",
    "    print(\"Uninfected\")\n",
    "else:\n",
    "    print(\"Infected\")"
   ]
  },
  {
   "cell_type": "code",
   "execution_count": null,
   "id": "44c99786",
   "metadata": {},
   "outputs": [],
   "source": []
  }
 ],
 "metadata": {
  "kernelspec": {
   "display_name": "Python 3",
   "language": "python",
   "name": "python3"
  },
  "language_info": {
   "codemirror_mode": {
    "name": "ipython",
    "version": 3
   },
   "file_extension": ".py",
   "mimetype": "text/x-python",
   "name": "python",
   "nbconvert_exporter": "python",
   "pygments_lexer": "ipython3",
   "version": "3.6.13"
  }
 },
 "nbformat": 4,
 "nbformat_minor": 5
}
